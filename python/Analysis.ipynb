{
 "cells": [
  {
   "cell_type": "code",
   "execution_count": 1,
   "metadata": {},
   "outputs": [],
   "source": [
    "from knight import *"
   ]
  },
  {
   "cell_type": "code",
   "execution_count": 4,
   "metadata": {},
   "outputs": [],
   "source": [
    "def max_search(s):\n",
    "    return max(max(x) for x in s)"
   ]
  },
  {
   "cell_type": "code",
   "execution_count": 6,
   "metadata": {},
   "outputs": [
    {
     "data": {
      "text/plain": [
       "68"
      ]
     },
     "execution_count": 6,
     "metadata": {},
     "output_type": "execute_result"
    }
   ],
   "source": [
    "max_search(search(100, 100))"
   ]
  },
  {
   "cell_type": "code",
   "execution_count": 7,
   "metadata": {},
   "outputs": [],
   "source": [
    "import pandas as pd"
   ]
  },
  {
   "cell_type": "code",
   "execution_count": 11,
   "metadata": {},
   "outputs": [],
   "source": [
    "board_size = list(range(8, 100))\n",
    "knights = [(a, b) for b in range(1, 20) for a in range(1, b)]"
   ]
  },
  {
   "cell_type": "code",
   "execution_count": 30,
   "metadata": {},
   "outputs": [
    {
     "name": "stdout",
     "output_type": "stream",
     "text": [
      "8\n",
      "9\n",
      "10\n",
      "11\n",
      "12\n",
      "13\n",
      "14\n",
      "15\n",
      "16\n",
      "17\n",
      "18\n",
      "19\n",
      "20\n",
      "21\n",
      "22\n",
      "23\n",
      "24\n",
      "25\n",
      "26\n",
      "27\n",
      "28\n",
      "29\n",
      "30\n",
      "31\n",
      "32\n",
      "33\n",
      "34\n",
      "35\n",
      "36\n",
      "37\n",
      "38\n",
      "39\n",
      "40\n",
      "41\n",
      "42\n",
      "43\n",
      "44\n",
      "45\n",
      "46\n",
      "47\n",
      "48\n",
      "49\n",
      "50\n",
      "51\n",
      "52\n",
      "53\n",
      "54\n",
      "55\n",
      "56\n",
      "57\n",
      "58\n",
      "59\n",
      "60\n",
      "61\n",
      "62\n",
      "63\n",
      "64\n",
      "65\n",
      "66\n",
      "67\n",
      "68\n",
      "69\n",
      "70\n",
      "71\n",
      "72\n",
      "73\n",
      "74\n",
      "75\n",
      "76\n",
      "77\n",
      "78\n",
      "79\n",
      "80\n",
      "81\n",
      "82\n",
      "83\n",
      "84\n",
      "85\n",
      "86\n",
      "87\n",
      "88\n",
      "89\n",
      "90\n",
      "91\n",
      "92\n",
      "93\n",
      "94\n",
      "95\n",
      "96\n",
      "97\n",
      "98\n",
      "99\n"
     ]
    }
   ],
   "source": [
    "vals = []\n",
    "for sz in board_size:\n",
    "    for a, b in knights:\n",
    "        if a >= sz or b >= sz:\n",
    "            continue\n",
    "        m = max_search(search(sz, sz, (a,b)))\n",
    "        vals.append([sz, a, b, m])\n",
    "data = pd.DataFrame(vals, columns=[\"board_size\", \"knight_a\", \"knight_b\", \"max_bfs\"])\n",
    "data.to_csv(\"knight_data.csv\")"
   ]
  },
  {
   "cell_type": "code",
   "execution_count": 41,
   "metadata": {},
   "outputs": [
    {
     "data": {
      "text/plain": [
       "(0.16930903795480223, array([0.09988621, 0.2810874 , 0.55735544]))"
      ]
     },
     "execution_count": 41,
     "metadata": {},
     "output_type": "execute_result"
    }
   ],
   "source": [
    "from sklearn.linear_model import LinearRegression\n",
    "X, y = data[[\"board_size\", \"knight_a\", \"knight_b\"]], data[\"max_bfs\"]\n",
    "reg = LinearRegression().fit(X, y)\n",
    "reg.score(X, y), reg.coef_"
   ]
  },
  {
   "cell_type": "code",
   "execution_count": 42,
   "metadata": {},
   "outputs": [
    {
     "data": {
      "text/plain": [
       "(14097, 4)"
      ]
     },
     "execution_count": 42,
     "metadata": {},
     "output_type": "execute_result"
    }
   ],
   "source": [
    "data.shape"
   ]
  },
  {
   "cell_type": "code",
   "execution_count": 56,
   "metadata": {},
   "outputs": [
    {
     "data": {
      "text/plain": [
       "1916"
      ]
     },
     "execution_count": 56,
     "metadata": {},
     "output_type": "execute_result"
    }
   ],
   "source": [
    "%matplotlib inline\n",
    "data[data[\"board_size\"] == 25][\"max_bfs\"].idxmax()"
   ]
  },
  {
   "cell_type": "code",
   "execution_count": 60,
   "metadata": {},
   "outputs": [
    {
     "data": {
      "text/plain": [
       "board_size    25\n",
       "knight_a       8\n",
       "knight_b      17\n",
       "max_bfs       77\n",
       "Name: 1916, dtype: int64"
      ]
     },
     "execution_count": 60,
     "metadata": {},
     "output_type": "execute_result"
    }
   ],
   "source": [
    "data[data[\"board_size\"] == 25].loc[1916]"
   ]
  },
  {
   "cell_type": "code",
   "execution_count": null,
   "metadata": {},
   "outputs": [],
   "source": [
    "search(25, 25, (8, 17))"
   ]
  },
  {
   "cell_type": "code",
   "execution_count": 2,
   "metadata": {},
   "outputs": [
    {
     "data": {
      "text/plain": [
       "[[0, 0, 0, 0, 0, 0, 0, 0],\n",
       " [0, 0, 0, 0, 0, 0, 0, 0],\n",
       " [0, 0, 0, 0, 0, 0, 0, 0],\n",
       " [0, 0, 0, 0, 0, 0, 0, 0],\n",
       " [0, 0, 0, 0, 0, 0, 0, 0],\n",
       " [0, 0, 0, 0, 0, 0, 0, 0],\n",
       " [0, 0, 0, 0, 0, 0, 0, 0],\n",
       " [0, 0, 0, 0, 0, 0, 0, 0]]"
      ]
     },
     "execution_count": 2,
     "metadata": {},
     "output_type": "execute_result"
    }
   ],
   "source": [
    "b = new_board(8, 8)\n",
    "k = (2,5)\n",
    "moves = all_moves(k)\n",
    "valid = move_valid(8, 8)\n",
    "b"
   ]
  },
  {
   "cell_type": "code",
   "execution_count": 10,
   "metadata": {},
   "outputs": [],
   "source": [
    "def transform(board, old, new):\n",
    "    for r in range(len(board)):\n",
    "        for c in range(len(board[r])):\n",
    "            if board[r][c] == old:\n",
    "                board[r][c] = new"
   ]
  },
  {
   "cell_type": "code",
   "execution_count": 21,
   "metadata": {},
   "outputs": [],
   "source": [
    "def tour_search():\n",
    "    num_groups = 1\n",
    "    groups = {}\n",
    "    for r in range(8):\n",
    "        for c in range(8):\n",
    "            next_moves = [m for m in [make_move((r, c), m) for m in moves] if valid(m)]\n",
    "            if len(next_moves) != 2:\n",
    "                continue\n",
    "            if not b[r][c]:\n",
    "                b[r][c] = num_groups\n",
    "                groups[num_groups] = [(r, c)]\n",
    "                num_groups += 1\n",
    "            nextr, nextc = next_moves[0]\n",
    "            if b[nextr][nextc]:\n",
    "                \n",
    "            for nextr, nextc in next_moves:\n",
    "                if b[nextr][nextc]:\n",
    "                    transform(b, b[nextr][nextc], b[r][c])\n",
    "                else:\n",
    "                    b[nextr][nextc] = b[r][c]\n",
    "            yield groups"
   ]
  },
  {
   "cell_type": "code",
   "execution_count": 3,
   "metadata": {},
   "outputs": [],
   "source": [
    "for r in range(8):\n",
    "    for c in range(8):\n",
    "        b[r][c] = len([m for m in [make_move((r, c), m) for m in moves] if valid(m)])"
   ]
  },
  {
   "cell_type": "code",
   "execution_count": 5,
   "metadata": {},
   "outputs": [
    {
     "data": {
      "text/plain": [
       "<matplotlib.image.AxesImage at 0x7ff51347e358>"
      ]
     },
     "execution_count": 5,
     "metadata": {},
     "output_type": "execute_result"
    },
    {
     "data": {
      "image/png": "[encoded data removed]",
      "text/plain": [
       "<Figure size 288x288 with 1 Axes>"
      ]
     },
     "metadata": {
      "needs_background": "light"
     },
     "output_type": "display_data"
    }
   ],
   "source": [
    "from matplotlib import pyplot\n",
    "%matplotlib inline\n",
    "pyplot.matshow(b)"
   ]
  },
  {
   "cell_type": "code",
   "execution_count": 23,
   "metadata": {},
   "outputs": [],
   "source": [
    "x = tour_search()"
   ]
  },
  {
   "cell_type": "code",
   "execution_count": 6,
   "metadata": {},
   "outputs": [
    {
     "data": {
      "text/plain": [
       "<matplotlib.image.AxesImage at 0x7ff5133f3f98>"
      ]
     },
     "execution_count": 6,
     "metadata": {},
     "output_type": "execute_result"
    },
    {
     "data": {
      "image/png": "[encoded data removed]",
      "text/plain": [
       "<Figure size 288x288 with 1 Axes>"
      ]
     },
     "metadata": {
      "needs_background": "light"
     },
     "output_type": "display_data"
    }
   ],
   "source": [
    "pyplot.matshow(b)"
   ]
  },
  {
   "cell_type": "code",
   "execution_count": 27,
   "metadata": {},
   "outputs": [],
   "source": [
    "def rotate(x, t = 0):\n",
    "    if t == 0:\n",
    "        return x\n",
    "    r, c = x\n",
    "    return rotate((c, 7-r), t-1)\n",
    "def reflect(x):\n",
    "    r, c = x\n",
    "    return (c, r)\n",
    "def reverse(x):\n",
    "    return [list(reversed(x0)) for x0 in x]"
   ]
  },
  {
   "cell_type": "code",
   "execution_count": 40,
   "metadata": {},
   "outputs": [],
   "source": [
    "x0 = [(2,5),(0,0),(5,2)]\n",
    "x = [[rotate(x, i) for x in x0] for i in range(4)]\n",
    "y0 = [(5,1),(3,6),(1,1),(6,3),(1,5)]\n",
    "y = [[rotate(y, i) for y in y0] for i in range(4)]\n",
    "z0 = [(2,6), (0,1), (5,3),(0,5)]\n",
    "z1 = [reflect(z) for z in z0]\n",
    "z = [[[rotate(z, i) for z in z0] for i in range(4)],\n",
    "     [[rotate(z, i) for z in z1] for i in range(4)]]\n",
    "w0 = [(5,1),(0,3),(5,5)]\n",
    "w1 = [reflect(w) for w in w0]\n",
    "w = [[[rotate(w, i) for w in w0] for i in range(4)],\n",
    "     [[rotate(w, i) for w in w1] for i in range(4)]]\n",
    "v0 = [(0,5), (5,7)]\n",
    "v1 = [reflect(v) for v in v0]\n",
    "v = [[[rotate(v, i) for v in v0] for i in range(4)],\n",
    "     [[rotate(v, i) for v in v1] for i in range(4)]]"
   ]
  },
  {
   "cell_type": "code",
   "execution_count": 28,
   "metadata": {},
   "outputs": [
    {
     "data": {
      "text/plain": [
       "[[(0, 5), (5, 3), (0, 1), (2, 6)],\n",
       " [(5, 7), (3, 2), (1, 7), (6, 5)],\n",
       " [(7, 2), (2, 4), (7, 6), (5, 1)],\n",
       " [(2, 0), (4, 5), (6, 0), (1, 2)]]"
      ]
     },
     "execution_count": 28,
     "metadata": {},
     "output_type": "execute_result"
    }
   ],
   "source": [
    "reverse(z[0])"
   ]
  },
  {
   "cell_type": "code",
   "execution_count": 29,
   "metadata": {},
   "outputs": [
    {
     "data": {
      "text/plain": [
       "[[(5, 1), (0, 3), (5, 5)],\n",
       " [(1, 2), (3, 7), (5, 2)],\n",
       " [(2, 6), (7, 4), (2, 2)],\n",
       " [(6, 5), (4, 0), (2, 5)]]"
      ]
     },
     "execution_count": 29,
     "metadata": {},
     "output_type": "execute_result"
    }
   ],
   "source": [
    "w[0]"
   ]
  },
  {
   "cell_type": "code",
   "execution_count": 30,
   "metadata": {},
   "outputs": [
    {
     "data": {
      "text/plain": [
       "[[(2, 5), (0, 0), (5, 2)],\n",
       " [(5, 5), (0, 7), (2, 2)],\n",
       " [(5, 2), (7, 7), (2, 5)],\n",
       " [(2, 2), (7, 0), (5, 5)]]"
      ]
     },
     "execution_count": 30,
     "metadata": {},
     "output_type": "execute_result"
    }
   ],
   "source": [
    "x"
   ]
  },
  {
   "cell_type": "code",
   "execution_count": 31,
   "metadata": {},
   "outputs": [
    {
     "data": {
      "text/plain": [
       "[[(5, 5), (0, 3), (5, 1)],\n",
       " [(5, 2), (3, 7), (1, 2)],\n",
       " [(2, 2), (7, 4), (2, 6)],\n",
       " [(2, 5), (4, 0), (6, 5)]]"
      ]
     },
     "execution_count": 31,
     "metadata": {},
     "output_type": "execute_result"
    }
   ],
   "source": [
    "reverse(w[0])"
   ]
  },
  {
   "cell_type": "code",
   "execution_count": 32,
   "metadata": {},
   "outputs": [
    {
     "data": {
      "text/plain": [
       "[[(5, 1), (3, 6), (1, 1), (6, 3), (1, 5)],\n",
       " [(1, 2), (6, 4), (1, 6), (3, 1), (5, 6)],\n",
       " [(2, 6), (4, 1), (6, 6), (1, 4), (6, 2)],\n",
       " [(6, 5), (1, 3), (6, 1), (4, 6), (2, 1)]]"
      ]
     },
     "execution_count": 32,
     "metadata": {},
     "output_type": "execute_result"
    }
   ],
   "source": [
    "y"
   ]
  },
  {
   "cell_type": "code",
   "execution_count": 33,
   "metadata": {},
   "outputs": [
    {
     "data": {
      "text/plain": [
       "[[(6, 2), (1, 0), (3, 5), (5, 0)],\n",
       " [(2, 1), (0, 6), (5, 4), (0, 2)],\n",
       " [(1, 5), (6, 7), (4, 2), (2, 7)],\n",
       " [(5, 6), (7, 1), (2, 3), (7, 5)]]"
      ]
     },
     "execution_count": 33,
     "metadata": {},
     "output_type": "execute_result"
    }
   ],
   "source": [
    "z[1]"
   ]
  },
  {
   "cell_type": "code",
   "execution_count": 41,
   "metadata": {},
   "outputs": [
    {
     "data": {
      "text/plain": [
       "[[(5, 0), (7, 5)], [(0, 2), (5, 0)], [(2, 7), (0, 2)], [(7, 5), (2, 7)]]"
      ]
     },
     "execution_count": 41,
     "metadata": {},
     "output_type": "execute_result"
    }
   ],
   "source": [
    "v[1]"
   ]
  },
  {
   "cell_type": "code",
   "execution_count": 34,
   "metadata": {},
   "outputs": [
    {
     "data": {
      "text/plain": [
       "[[(5, 0), (3, 5), (1, 0), (6, 2)],\n",
       " [(0, 2), (5, 4), (0, 6), (2, 1)],\n",
       " [(2, 7), (4, 2), (6, 7), (1, 5)],\n",
       " [(7, 5), (2, 3), (7, 1), (5, 6)]]"
      ]
     },
     "execution_count": 34,
     "metadata": {},
     "output_type": "execute_result"
    }
   ],
   "source": [
    "reverse(z[1])"
   ]
  },
  {
   "cell_type": "code",
   "execution_count": 35,
   "metadata": {},
   "outputs": [
    {
     "data": {
      "text/plain": [
       "[[(1, 5), (3, 0), (5, 5)],\n",
       " [(5, 6), (0, 4), (5, 2)],\n",
       " [(6, 2), (4, 7), (2, 2)],\n",
       " [(2, 1), (7, 3), (2, 5)]]"
      ]
     },
     "execution_count": 35,
     "metadata": {},
     "output_type": "execute_result"
    }
   ],
   "source": [
    "w[1]"
   ]
  },
  {
   "cell_type": "code",
   "execution_count": 36,
   "metadata": {},
   "outputs": [
    {
     "data": {
      "text/plain": [
       "[[(2, 5), (0, 0), (5, 2)],\n",
       " [(5, 5), (0, 7), (2, 2)],\n",
       " [(5, 2), (7, 7), (2, 5)],\n",
       " [(2, 2), (7, 0), (5, 5)]]"
      ]
     },
     "execution_count": 36,
     "metadata": {},
     "output_type": "execute_result"
    }
   ],
   "source": [
    "x"
   ]
  },
  {
   "cell_type": "code",
   "execution_count": 37,
   "metadata": {},
   "outputs": [
    {
     "data": {
      "text/plain": [
       "[[(5, 5), (3, 0), (1, 5)],\n",
       " [(5, 2), (0, 4), (5, 6)],\n",
       " [(2, 2), (4, 7), (6, 2)],\n",
       " [(2, 5), (7, 3), (2, 1)]]"
      ]
     },
     "execution_count": 37,
     "metadata": {},
     "output_type": "execute_result"
    }
   ],
   "source": [
    "reverse(w[1])"
   ]
  },
  {
   "cell_type": "code",
   "execution_count": 38,
   "metadata": {},
   "outputs": [
    {
     "data": {
      "text/plain": [
       "[[(1, 5), (6, 3), (1, 1), (3, 6), (5, 1)],\n",
       " [(5, 6), (3, 1), (1, 6), (6, 4), (1, 2)],\n",
       " [(6, 2), (1, 4), (6, 6), (4, 1), (2, 6)],\n",
       " [(2, 1), (4, 6), (6, 1), (1, 3), (6, 5)]]"
      ]
     },
     "execution_count": 38,
     "metadata": {},
     "output_type": "execute_result"
    }
   ],
   "source": [
    "reverse(y)"
   ]
  },
  {
   "cell_type": "code",
   "execution_count": 39,
   "metadata": {},
   "outputs": [
    {
     "data": {
      "text/plain": [
       "[[(2, 6), (0, 1), (5, 3), (0, 5)],\n",
       " [(6, 5), (1, 7), (3, 2), (5, 7)],\n",
       " [(5, 1), (7, 6), (2, 4), (7, 2)],\n",
       " [(1, 2), (6, 0), (4, 5), (2, 0)]]"
      ]
     },
     "execution_count": 39,
     "metadata": {},
     "output_type": "execute_result"
    }
   ],
   "source": [
    "z[0]"
   ]
  },
  {
   "cell_type": "code",
   "execution_count": 42,
   "metadata": {},
   "outputs": [
    {
     "data": {
      "text/plain": [
       "[[(0, 5), (5, 7)], [(5, 7), (7, 2)], [(7, 2), (2, 0)], [(2, 0), (0, 5)]]"
      ]
     },
     "execution_count": 42,
     "metadata": {},
     "output_type": "execute_result"
    }
   ],
   "source": [
    "v[0]"
   ]
  },
  {
   "cell_type": "code",
   "execution_count": 43,
   "metadata": {},
   "outputs": [],
   "source": [
    "\n",
    "def stitch(l1, l2):\n",
    "    stitched = []\n",
    "    for subl1 in l1:\n",
    "        for subl2 in l2:\n",
    "            if subl1[-1] == subl2[0]:\n",
    "                stitched.append(subl1 + subl2[1:])\n",
    "    return stitched"
   ]
  },
  {
   "cell_type": "code",
   "execution_count": 44,
   "metadata": {},
   "outputs": [
    {
     "data": {
      "text/plain": [
       "[[(0, 5), (5, 3), (0, 1), (2, 6), (7, 4), (2, 2)],\n",
       " [(5, 7), (3, 2), (1, 7), (6, 5), (4, 0), (2, 5)],\n",
       " [(7, 2), (2, 4), (7, 6), (5, 1), (0, 3), (5, 5)],\n",
       " [(2, 0), (4, 5), (6, 0), (1, 2), (3, 7), (5, 2)]]"
      ]
     },
     "execution_count": 44,
     "metadata": {},
     "output_type": "execute_result"
    }
   ],
   "source": [
    "stitch(reverse(z[0]), w[0])"
   ]
  },
  {
   "cell_type": "code",
   "execution_count": 46,
   "metadata": {},
   "outputs": [],
   "source": [
    "from functools import reduce"
   ]
  },
  {
   "cell_type": "code",
   "execution_count": 54,
   "metadata": {},
   "outputs": [],
   "source": [
    "steps = reduce(stitch, [reverse(z[0]), w[0], x, reverse(w[0]), y, z[1], v[1], reverse(z[1]), w[1], x, reverse(w[1]), reverse(y), z[0]])"
   ]
  },
  {
   "cell_type": "code",
   "execution_count": 63,
   "metadata": {},
   "outputs": [],
   "source": [
    "steps_all = steps[0] + steps[3][1:] + steps[2][1:] + steps[1][1:]"
   ]
  },
  {
   "cell_type": "code",
   "execution_count": 301,
   "metadata": {},
   "outputs": [],
   "source": [
    "def run_steps(steps):\n",
    "    board = new_board(8,8)\n",
    "    for r,c in steps:\n",
    "        board[r][c] += 1\n",
    "    return board"
   ]
  },
  {
   "cell_type": "code",
   "execution_count": 302,
   "metadata": {},
   "outputs": [],
   "source": [
    "b = run_steps(steps_all)"
   ]
  },
  {
   "cell_type": "code",
   "execution_count": 304,
   "metadata": {},
   "outputs": [
    {
     "data": {
      "text/plain": [
       "<matplotlib.image.AxesImage at 0x7ff50fd63588>"
      ]
     },
     "execution_count": 304,
     "metadata": {},
     "output_type": "execute_result"
    },
    {
     "data": {
      "image/png": "[encoded data removed]",
      "text/plain": [
       "<Figure size 288x288 with 1 Axes>"
      ]
     },
     "metadata": {
      "needs_background": "light"
     },
     "output_type": "display_data"
    }
   ],
   "source": [
    "pyplot.matshow(b)"
   ]
  },
  {
   "cell_type": "code",
   "execution_count": 167,
   "metadata": {},
   "outputs": [
    {
     "data": {
      "text/plain": [
       "133"
      ]
     },
     "execution_count": 167,
     "metadata": {},
     "output_type": "execute_result"
    }
   ],
   "source": [
    "len(steps_all)"
   ]
  },
  {
   "cell_type": "code",
   "execution_count": null,
   "metadata": {},
   "outputs": [],
   "source": []
  },
  {
   "cell_type": "code",
   "execution_count": null,
   "metadata": {},
   "outputs": [],
   "source": []
  }
 ],
 "metadata": {
  "kernelspec": {
   "display_name": "Python 3",
   "language": "python",
   "name": "python3"
  },
  "language_info": {
   "codemirror_mode": {
    "name": "ipython",
    "version": 3
   },
   "file_extension": ".py",
   "mimetype": "text/x-python",
   "name": "python",
   "nbconvert_exporter": "python",
   "pygments_lexer": "ipython3",
   "version": "3.5.2"
  }
 },
 "nbformat": 4,
 "nbformat_minor": 2
}
